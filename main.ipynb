{
 "cells": [
  {
   "cell_type": "code",
   "execution_count": 2,
   "id": "6777b7ff-981e-4f97-84e0-26699c596d3c",
   "metadata": {},
   "outputs": [],
   "source": [
    "import pandas as pd\n",
    "import numpy as np\n",
    "import seaborn as sns\n",
    "import matplotlib.pyplot as plt\n",
    "import tensorflow as tf\n",
    "\n",
    "import os"
   ]
  },
  {
   "cell_type": "markdown",
   "id": "b085fcd1-4280-4393-8a36-97f03b1ea296",
   "metadata": {},
   "source": [
    "## Tomato Predictor - An introduction\n",
    "The idea of this project is to learn about:\n",
    "\n",
    "1. Convolutional Neural Networks (CNNs)\n",
    "    - Convolution and pooling\n",
    "    - Common arquitectures - LeNet, AlexNet, VGG, ResNet\n",
    "\n",
    "2. Image Preprocessing\n",
    "    - Normalization and standarization of pixels\n",
    "    - Data Augmentation: from the same sample, generate more images\n",
    "    - Noise reduction and constrast enhancement\n",
    "\n",
    "3. Evaluation metrics\n",
    "    - Precission, recall, F1-score\n",
    "    - Confusion matrix\n",
    "    - ROC and AUC curve\n",
    "\n",
    "4. Optimization and regularization\n",
    "    - Optimization algorithm - SGC, Adam, RMSprop\n",
    "    - Techniques to avoid overfitting - dropout, batch normalization, early stopping"
   ]
  },
  {
   "cell_type": "code",
   "execution_count": 3,
   "id": "694fad7e-587d-4aad-95b5-e46c7465f9c1",
   "metadata": {},
   "outputs": [
    {
     "name": "stdout",
     "output_type": "stream",
     "text": [
      "h\n"
     ]
    }
   ],
   "source": [
    "from pathlib import Path\n",
    "\n",
    "pathlist = Path(directory_in_str).glob('**/*.asm')\n",
    "for path in pathlist:\n",
    "    # because path is object not string\n",
    "    path_in_str = str(path)   \n",
    "    # print(path_in_str)\n"
   ]
  }
 ],
 "metadata": {
  "kernelspec": {
   "display_name": "Python 3 (ipykernel)",
   "language": "python",
   "name": "python3"
  },
  "language_info": {
   "codemirror_mode": {
    "name": "ipython",
    "version": 3
   },
   "file_extension": ".py",
   "mimetype": "text/x-python",
   "name": "python",
   "nbconvert_exporter": "python",
   "pygments_lexer": "ipython3",
   "version": "3.11.9"
  }
 },
 "nbformat": 4,
 "nbformat_minor": 5
}
