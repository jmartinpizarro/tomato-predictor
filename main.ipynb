{
 "cells": [
  {
   "cell_type": "code",
   "execution_count": 1,
   "id": "6777b7ff-981e-4f97-84e0-26699c596d3c",
   "metadata": {},
   "outputs": [],
   "source": [
    "import pandas as pd\n",
    "import numpy as np\n",
    "import seaborn as sns\n",
    "import matplotlib.pyplot as plt\n",
    "import tensorflow as tf"
   ]
  },
  {
   "cell_type": "markdown",
   "id": "b085fcd1-4280-4393-8a36-97f03b1ea296",
   "metadata": {},
   "source": [
    "## Tomato Predictor - An introduction\n",
    "The idea of this project is to learn about:\n",
    "\n",
    "1. Convolutional Neural Networks (CNNs)\n",
    "    - Convolution and pooling\n",
    "    - Common arquitectures - LeNet, AlexNet, VGG, ResNet\n",
    "\n",
    "2. Image Preprocessing\n",
    "    - Normalization and standarization of pixels\n",
    "    - Data Augmentation: from the same sample, generate more images\n",
    "    - Noise reduction and constrast enhancement\n",
    "\n",
    "3. Evaluation metrics\n",
    "    - Precission, recall, F1-score\n",
    "    - Confusion matrix\n",
    "    - ROC and AUC curve\n",
    "\n",
    "4. Optimization and regularization\n",
    "    - Optimization algorithm - SGC, Adam, RMSprop\n",
    "    - Techniques to avoid overfitting - dropout, batch normalization, early stopping"
   ]
  }
 ],
 "metadata": {
  "kernelspec": {
   "display_name": "Python 3 (ipykernel)",
   "language": "python",
   "name": "python3"
  },
  "language_info": {
   "codemirror_mode": {
    "name": "ipython",
    "version": 3
   },
   "file_extension": ".py",
   "mimetype": "text/x-python",
   "name": "python",
   "nbconvert_exporter": "python",
   "pygments_lexer": "ipython3",
   "version": "3.11.9"
  }
 },
 "nbformat": 4,
 "nbformat_minor": 5
}
